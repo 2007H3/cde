{
 "cells": [
  {
   "cell_type": "code",
   "execution_count": 36,
   "metadata": {},
   "outputs": [],
   "source": [
    "from IPython.display import HTML\n",
    "import ipywidgets as widgets\n"
   ]
  },
  {
   "cell_type": "code",
   "execution_count": 39,
   "metadata": {},
   "outputs": [
    {
     "data": {
      "application/vnd.jupyter.widget-view+json": {
       "model_id": "3cb3e446eb61424f905466ff6a567240",
       "version_major": 2,
       "version_minor": 0
      },
      "text/plain": [
       "IntSlider(value=0)"
      ]
     },
     "metadata": {},
     "output_type": "display_data"
    }
   ],
   "source": [
    "widgets.IntSlider()"
   ]
  },
  {
   "cell_type": "code",
   "execution_count": 37,
   "metadata": {},
   "outputs": [],
   "source": [
    "s = \"\"\"<div class=\"row\">\n",
    "  <div class=\"col-sm-6 col-md-4\">\n",
    "    <div class=\"thumbnail\">\n",
    "      <img src=\"...\" alt=\"...\">\n",
    "      <div class=\"caption\">\n",
    "        <h3>Thumbnail label</h3>\n",
    "        <p>...</p>\n",
    "        <p><a href=\"#\" class=\"btn btn-primary\" role=\"button\">Button</a> <a href=\"#\" class=\"btn btn-default\" role=\"button\">Button</a></p>\n",
    "      </div>\n",
    "    </div>\n",
    "  </div>\n",
    "</div>\"\"\"\n",
    "s = HTML(s)"
   ]
  },
  {
   "cell_type": "code",
   "execution_count": 38,
   "metadata": {},
   "outputs": [
    {
     "data": {
      "text/html": [
       "<div class=\"row\">\n",
       "  <div class=\"col-sm-6 col-md-4\">\n",
       "    <div class=\"thumbnail\">\n",
       "      <img src=\"...\" alt=\"...\">\n",
       "      <div class=\"caption\">\n",
       "        <h3>Thumbnail label</h3>\n",
       "        <p>...</p>\n",
       "        <p><a href=\"#\" class=\"btn btn-primary\" role=\"button\">Button</a> <a href=\"#\" class=\"btn btn-default\" role=\"button\">Button</a></p>\n",
       "      </div>\n",
       "    </div>\n",
       "  </div>\n",
       "</div>"
      ],
      "text/plain": [
       "<IPython.core.display.HTML object>"
      ]
     },
     "metadata": {},
     "output_type": "display_data"
    }
   ],
   "source": [
    "display(s)"
   ]
  },
  {
   "cell_type": "markdown",
   "metadata": {},
   "source": [
    "<button type=\"button\" class=\"btn btn-default\" aria-label=\"Left Align\">\n",
    "  <span class=\"glyphicon glyphicon-align-left\" aria-hidden=\"true\"></span>\n",
    "</button>\n",
    "\n",
    "<button type=\"button\" class=\"btn btn-default btn-lg\">\n",
    "  <span class=\"glyphicon glyphicon-star\" aria-hidden=\"true\"></span> Star\n",
    "</button>"
   ]
  },
  {
   "cell_type": "markdown",
   "metadata": {},
   "source": [
    "<div class=\"alert alert-block alert-success\">MySuccess</div>"
   ]
  },
  {
   "cell_type": "markdown",
   "metadata": {
    "azdata_cell_guid": "8885965d-c2a6-4e67-8b80-b7f1358fe2f5"
   },
   "source": [
    "# Overview\n",
    "\n",
    "_This section asists business users with the functional aspects of this report_\n",
    "\n",
    "## Platform\n",
    "\n",
    "_Service platform, currently Redline or MyGSFS_\n",
    "\n",
    "## Update timing or schedule\n",
    "\n",
    "_how often is this report run_\n",
    "\n",
    "## Business Objective\n",
    "\n",
    "_what business problem does this report solve_\n",
    "\n",
    "## Triggering Activity\n",
    "\n",
    "_what business process begins the production of this report_\n",
    "\n",
    "## Impact of non-availability\n",
    "\n",
    "_what negative business impacts does the untimely production of this report have_\n",
    "\n",
    "### Data governance ([x of 5] requirements met)\n",
    "\n",
    "<ol>\n",
    "    <li>test</li>\n",
    "    <li>test 1</li>\n",
    "</ol>\n",
    "| Governed | Segment |\n",
    "|-|-|\n",
    "| ![](https://image.flaticon.com/icons/svg/3039/3039418.svg) |  |\n",
    "|  |  |\n",
    "|  |  |\n",
    "## Ownership\n",
    "\n",
    "_key owner(s) that approve changes to this report_\n",
    "\n",
    "## Dataset Source\n",
    "\n",
    "_the source of truth and providence of this report_\n",
    "\n",
    "## Documentation\n",
    "\n",
    "_yes/no that the dataset is fully documented_\n",
    "\n",
    "## Source system\n",
    "_which application(s) or operations provided the data for this report_\n",
    "\n",
    "# Report Audit & Traceability\n",
    "_Yes/No. This is an advanced level of documentation setting out fact dimension detail at the most granular level on all components of the report_\n",
    "\n",
    "### Security and sensitivity detail\n",
    "\n",
    "_list the data sensitivity classification for this report, if any_\n",
    "\n",
    "## Row Level Detail\n",
    "\n",
    "_define what a row represents on each component_\n",
    "_Question to be answered is what does a row represent. Observation granularity for dimension or fact. Dollars sales by week, product, and customer for example._\n",
    "\n",
    "_include and condition, predicate, filter or Where clause of the data soure_\n",
    "\n",
    "## Column Detail\n",
    "\n",
    "### Column [_name_]\n",
    "\n",
    "_describe the column and its calculation or forumla_\n",
    "\n",
    "- Component Name\n",
    "- Fully Qualified Column Name e.g. (`database.schema.table.fizzle_bob`)\n",
    "- Column or Column Formula, e.g. (`database.schema.table.fizzle_bob` / `month_num`) \\* 0.424\n",
    "- Dimension or Measure/Fact\n",
    "- Aggregation\n",
    "- Masking Type: _(none, static, or dynamic)_\n",
    "\n",
    "## Relationships & Dependencies\n",
    "\n",
    "_List the dependencies of this report if any_\n",
    "\n",
    "#### Reference Items\n",
    "\n",
    "[Conforming Dimensions](Master Data)\\\n",
    "Enterprise Data Bus Matrix\\\n",
    "Linked DataSets or Reports\\\n",
    "Errata\n",
    "\n",
    "## Revision History\n",
    "\n",
    "_use the same versioning convention used by the source control system of the report_\n",
    "| REV | Date | Description |\n",
    "|-----|------------|------------------------------------------------------------------------|\n",
    "| A | 2020-05-25 | Updated the description for the BoofyWiz column. |\n"
   ]
  },
  {
   "cell_type": "code",
   "execution_count": null,
   "metadata": {},
   "outputs": [],
   "source": []
  }
 ],
 "metadata": {
  "kernelspec": {
   "display_name": "Python 3",
   "language": "python",
   "name": "python3"
  },
  "language_info": {
   "codemirror_mode": {
    "name": "ipython",
    "version": 3
   },
   "file_extension": ".py",
   "mimetype": "text/x-python",
   "name": "python",
   "nbconvert_exporter": "python",
   "pygments_lexer": "ipython3",
   "version": "3.7.6"
  }
 },
 "nbformat": 4,
 "nbformat_minor": 2
}
